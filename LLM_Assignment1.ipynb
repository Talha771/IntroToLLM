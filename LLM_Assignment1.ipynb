{
  "cells": [
    {
      "cell_type": "markdown",
      "metadata": {
        "id": "mjtzTCY3ET4G"
      },
      "source": [
        "# CS 335: Introduction to Large Language Models\n",
        "## Assignment 01\n",
        "### **Total Marks**: 100\n",
        "### **Deadline**: Sunday, 3rd March, 2024, 11:59 PM\n",
        "### **Name**: Write your name here\n",
        "### **ID**: Write your ID here"
      ]
    },
    {
      "cell_type": "markdown",
      "source": [
        "#Instructions"
      ],
      "metadata": {
        "id": "x_PuJY_809rM"
      }
    },
    {
      "cell_type": "markdown",
      "source": [
        "1. Please rename your notebook as *Assignment_1_aa1234.ipynb* before the final submission. Notebooks which do not follow appropriate naming convention will not be graded.\n",
        "\n",
        "2. Please submit your own work. If you have any questions, please feel free to reach out to the course instructors or RA.\n",
        "\n"
      ],
      "metadata": {
        "id": "rEsATiuR1Dm1"
      }
    },
    {
      "cell_type": "markdown",
      "source": [
        "# Assignment Overview"
      ],
      "metadata": {
        "id": "6ccbn_f1tuO5"
      }
    },
    {
      "cell_type": "markdown",
      "source": [
        "In this assignment, you are required to fine tune a LLM model of your that classifies which human value category a textual arguement belongs to. Your model will evaluated against 1-baseline, random-baseline results on the following dataset: test, Nahjalbalagha, Zhihu\n"
      ],
      "metadata": {
        "id": "1wzVkeRPuFeE"
      }
    },
    {
      "cell_type": "markdown",
      "metadata": {
        "id": "OaTUH4roAbNK"
      },
      "source": [
        "# Setup\n",
        "\n"
      ]
    },
    {
      "cell_type": "code",
      "execution_count": 1,
      "metadata": {
        "id": "pUce6g7dikYE"
      },
      "outputs": [],
      "source": [
        "# IMPORT ALL YOUR LIBRARIES\n",
        "# SUGGESTED LIBRARIES\n",
        "import torch\n",
        "import pandas as pd\n",
        "from transformers import BertTokenizer, BertForSequenceClassification\n",
        "from torch.utils.data import DataLoader, Dataset\n",
        "from transformers import AdamW, get_linear_schedule_with_warmup\n",
        "from sklearn.metrics import accuracy_score"
      ]
    },
    {
      "cell_type": "markdown",
      "metadata": {
        "id": "FIQpDqfqAeLf"
      },
      "source": [
        "# Download Files\n"
      ]
    },
    {
      "cell_type": "markdown",
      "source": [
        "##Evaluator"
      ],
      "metadata": {
        "id": "FIQHbYBWixhL"
      }
    },
    {
      "cell_type": "code",
      "source": [
        "# DO NOT EDIT\n",
        "# RUN ONLY ONCE\n",
        "!wget https://raw.githubusercontent.com/touche-webis-de/touche-code/main/semeval23/human-value-detection/evaluator/evaluator.py"
      ],
      "metadata": {
        "colab": {
          "base_uri": "https://localhost:8080/"
        },
        "id": "rNnoIZpRi4tG",
        "outputId": "67c2a793-ddd4-48d2-e9c2-e004f7a479ee"
      },
      "execution_count": 2,
      "outputs": [
        {
          "output_type": "stream",
          "name": "stdout",
          "text": [
            "--2024-02-19 19:22:44--  https://raw.githubusercontent.com/touche-webis-de/touche-code/main/semeval23/human-value-detection/evaluator/evaluator.py\n",
            "Resolving raw.githubusercontent.com (raw.githubusercontent.com)... 185.199.108.133, 185.199.109.133, 185.199.110.133, ...\n",
            "Connecting to raw.githubusercontent.com (raw.githubusercontent.com)|185.199.108.133|:443... connected.\n",
            "HTTP request sent, awaiting response... 200 OK\n",
            "Length: 8708 (8.5K) [text/plain]\n",
            "Saving to: ‘evaluator.py’\n",
            "\n",
            "\revaluator.py          0%[                    ]       0  --.-KB/s               \revaluator.py        100%[===================>]   8.50K  --.-KB/s    in 0s      \n",
            "\n",
            "2024-02-19 19:22:44 (58.0 MB/s) - ‘evaluator.py’ saved [8708/8708]\n",
            "\n"
          ]
        }
      ]
    },
    {
      "cell_type": "markdown",
      "source": [
        "## 1-Baseline"
      ],
      "metadata": {
        "id": "f1cuD7diLpQt"
      }
    },
    {
      "cell_type": "code",
      "source": [
        "# DO NOT EDIT\n",
        "# RUN ONLY ONCE\n",
        "!wget https://raw.githubusercontent.com/touche-webis-de/touche-code/main/semeval23/human-value-detection/1-baseline/1-baseline.py"
      ],
      "metadata": {
        "colab": {
          "base_uri": "https://localhost:8080/"
        },
        "id": "qemjimf_F124",
        "outputId": "a0b95896-4da3-401b-a6d1-30d91a82b9a2"
      },
      "execution_count": 3,
      "outputs": [
        {
          "output_type": "stream",
          "name": "stdout",
          "text": [
            "--2024-02-19 19:22:44--  https://raw.githubusercontent.com/touche-webis-de/touche-code/main/semeval23/human-value-detection/1-baseline/1-baseline.py\n",
            "Resolving raw.githubusercontent.com (raw.githubusercontent.com)... 185.199.110.133, 185.199.111.133, 185.199.108.133, ...\n",
            "Connecting to raw.githubusercontent.com (raw.githubusercontent.com)|185.199.110.133|:443... connected.\n",
            "HTTP request sent, awaiting response... 200 OK\n",
            "Length: 3613 (3.5K) [text/plain]\n",
            "Saving to: ‘1-baseline.py’\n",
            "\n",
            "\r1-baseline.py         0%[                    ]       0  --.-KB/s               \r1-baseline.py       100%[===================>]   3.53K  --.-KB/s    in 0s      \n",
            "\n",
            "2024-02-19 19:22:44 (41.0 MB/s) - ‘1-baseline.py’ saved [3613/3613]\n",
            "\n"
          ]
        }
      ]
    },
    {
      "cell_type": "markdown",
      "source": [
        "## Random-Baseline"
      ],
      "metadata": {
        "id": "jpz1rfDxLsSd"
      }
    },
    {
      "cell_type": "code",
      "source": [
        "# DO NOT EDIT\n",
        "# RUN ONLY ONCE\n",
        "!wget https://raw.githubusercontent.com/touche-webis-de/touche-code/main/semeval23/human-value-detection/random-baseline/random-baseline.py"
      ],
      "metadata": {
        "colab": {
          "base_uri": "https://localhost:8080/"
        },
        "id": "_1T_HfBIL6cM",
        "outputId": "d1e699f9-0d23-4946-86ce-93d2f6235edb"
      },
      "execution_count": 4,
      "outputs": [
        {
          "output_type": "stream",
          "name": "stdout",
          "text": [
            "--2024-02-19 19:22:44--  https://raw.githubusercontent.com/touche-webis-de/touche-code/main/semeval23/human-value-detection/random-baseline/random-baseline.py\n",
            "Resolving raw.githubusercontent.com (raw.githubusercontent.com)... 185.199.108.133, 185.199.109.133, 185.199.110.133, ...\n",
            "Connecting to raw.githubusercontent.com (raw.githubusercontent.com)|185.199.108.133|:443... connected.\n",
            "HTTP request sent, awaiting response... 200 OK\n",
            "Length: 5442 (5.3K) [text/plain]\n",
            "Saving to: ‘random-baseline.py’\n",
            "\n",
            "\rrandom-baseline.py    0%[                    ]       0  --.-KB/s               \rrandom-baseline.py  100%[===================>]   5.31K  --.-KB/s    in 0s      \n",
            "\n",
            "2024-02-19 19:22:45 (58.4 MB/s) - ‘random-baseline.py’ saved [5442/5442]\n",
            "\n"
          ]
        }
      ]
    },
    {
      "cell_type": "markdown",
      "source": [
        "## Dataset Files"
      ],
      "metadata": {
        "id": "3hP4MSUBLw6d"
      }
    },
    {
      "cell_type": "code",
      "source": [
        "# DO NOT EDIT\n",
        "# RUN ONLY ONCE\n",
        "!wget https://zenodo.org/api/records/10564870/files-archive"
      ],
      "metadata": {
        "colab": {
          "base_uri": "https://localhost:8080/"
        },
        "id": "kbW6yi3-kzLV",
        "outputId": "3037cedb-d93a-454b-82dd-8b24e4ed5c50"
      },
      "execution_count": 5,
      "outputs": [
        {
          "output_type": "stream",
          "name": "stdout",
          "text": [
            "--2024-02-19 19:22:45--  https://zenodo.org/api/records/10564870/files-archive\n",
            "Resolving zenodo.org (zenodo.org)... 188.184.98.238, 188.185.79.172, 188.184.103.159, ...\n",
            "Connecting to zenodo.org (zenodo.org)|188.184.98.238|:443... connected.\n",
            "HTTP request sent, awaiting response... 200 OK\n",
            "Length: unspecified [application/zip]\n",
            "Saving to: ‘files-archive’\n",
            "\n",
            "files-archive           [               <=>  ]  54.70M  15.6MB/s    in 3.5s    \n",
            "\n",
            "2024-02-19 19:22:49 (15.6 MB/s) - ‘files-archive’ saved [57353430]\n",
            "\n"
          ]
        }
      ]
    },
    {
      "cell_type": "code",
      "execution_count": 6,
      "metadata": {
        "colab": {
          "base_uri": "https://localhost:8080/"
        },
        "id": "SqWSKoZYg889",
        "outputId": "3a21c33b-e833-44d4-a287-399bbe0ed77e"
      },
      "outputs": [
        {
          "output_type": "stream",
          "name": "stdout",
          "text": [
            "Archive:  /content/files-archive\n",
            " extracting: Dataset/value-categories.json  \n",
            " extracting: Dataset/arguments-validation-zhihu.tsv  \n",
            " extracting: Dataset/level1-labels-training.tsv  \n",
            " extracting: Dataset/arguments-test-nahjalbalagha.tsv  \n",
            " extracting: Dataset/arguments-test.tsv  \n",
            " extracting: Dataset/arguments-training.tsv  \n",
            " extracting: Dataset/arguments-validation.tsv  \n",
            " extracting: Dataset/labels-test-nahjalbalagha.tsv  \n",
            " extracting: Dataset/labels-test-nyt.tsv  \n",
            " extracting: Dataset/labels-test.tsv  \n",
            " extracting: Dataset/labels-training.tsv  \n",
            " extracting: Dataset/level1-labels-test-nahjalbalagha.tsv  \n",
            " extracting: Dataset/level1-labels-test.tsv  \n",
            " extracting: Dataset/level1-labels-test-nyt.tsv  \n",
            " extracting: Dataset/labels-validation.tsv  \n",
            " extracting: Dataset/labels-validation-zhihu.tsv  \n",
            " extracting: Dataset/meta-arguments-g.tsv  \n",
            " extracting: Dataset/meta-arguments-c.tsv  \n",
            " extracting: Dataset/meta-arguments-e.tsv  \n",
            " extracting: Dataset/meta-arguments-f.tsv  \n",
            " extracting: Dataset/level1-labels-validation.tsv  \n",
            " extracting: Dataset/level1-labels-validation-zhihu.tsv  \n",
            " extracting: Dataset/meta-arguments-a.tsv  \n",
            " extracting: Dataset/meta-arguments-d.tsv  \n",
            " extracting: Dataset/annotations-level1.tsv  \n",
            " extracting: Dataset/README.md       \n",
            " extracting: Dataset/comments-level1.tsv  \n"
          ]
        }
      ],
      "source": [
        "# DO NOT EDIT\n",
        "# RUN ONLY ONCE\n",
        "!unzip /content/files-archive -d Dataset"
      ]
    },
    {
      "cell_type": "code",
      "source": [
        "!mkdir /content/Dataset/zhihu\n",
        "!mkdir /content/Dataset/nahjalbalagha\n",
        "!mkdir /content/Dataset/train\n",
        "!mkdir /content/Dataset/test\n",
        "!mkdir /content/Dataset/validation"
      ],
      "metadata": {
        "id": "slE4sixQO3g3"
      },
      "execution_count": 7,
      "outputs": []
    },
    {
      "cell_type": "code",
      "source": [
        "!mv /content/Dataset/*-zhihu.tsv /content/Dataset/zhihu\n",
        "!mv /content/Dataset/*-nahjalbalagha.tsv /content/Dataset/nahjalbalagha\n",
        "!mv /content/Dataset/*-nahjalbalagha.tsv /content/Dataset/nahjalbalagha\n",
        "!mv /content/Dataset/*-training.tsv /content/Dataset/train\n",
        "!mv /content/Dataset/*-test.tsv /content/Dataset/test\n",
        "!mv /content/Dataset/*-validation.tsv /content/Dataset/validation"
      ],
      "metadata": {
        "colab": {
          "base_uri": "https://localhost:8080/"
        },
        "id": "t6j3XShbOUcK",
        "outputId": "2e868218-3b04-476a-ff2c-8d461dc1f5ea"
      },
      "execution_count": 8,
      "outputs": [
        {
          "output_type": "stream",
          "name": "stdout",
          "text": [
            "mv: cannot stat '/content/Dataset/*-nahjalbalagha.tsv': No such file or directory\n"
          ]
        }
      ]
    },
    {
      "cell_type": "markdown",
      "metadata": {
        "id": "NqfQxpk1rr3c"
      },
      "source": [
        "# Background Information"
      ]
    },
    {
      "cell_type": "markdown",
      "source": [
        "## Human Value Detection 2023 <br/>\n",
        "## SemEval 2023 Task 4. ValueEval: Identification of Human Values behind Arguments"
      ],
      "metadata": {
        "id": "4VOGICHSEnPe"
      }
    },
    {
      "cell_type": "markdown",
      "metadata": {
        "id": "LoK8u0VosGhF"
      },
      "source": [
        "\n",
        "\n",
        "Given a textual argument and a human value category, classify whether or not the argument draws on that category. This task uses a set of 20 value categories compiled from the social science literature and described in our [ACL paper](https://webis.de/publications.html#kiesel_2022b). Arguments are given as premise text, conclusion text, and binary stance of the premise to the conclusion (\"in favor of\" or \"against\").\n",
        "\n",
        "The 20 value categories are shown here on Schwartz' value continuum below:\n",
        "\n",
        "[![JEPBxUu.md.png](https://iili.io/JEPBxUu.md.png)](https://freeimage.host/i/JEPBxUu)\n",
        "\n",
        "\n",
        "\n",
        "\n",
        "\n"
      ]
    },
    {
      "cell_type": "markdown",
      "source": [
        "## Data"
      ],
      "metadata": {
        "id": "fQmfwBXIEqLN"
      }
    },
    {
      "cell_type": "markdown",
      "metadata": {
        "id": "GV37SsQqET4P"
      },
      "source": [
        "\n",
        "Data is provided as tab-separated values files with one header line. The arguments-validation.tsv files contain one argument per line: its unique argument ID, the conclusion, the premise's stance towards the conclusion, and the premise itself. Example with tab-separated columns are shown below\n",
        "\n",
        "<pre><span class=\"column\">Argument ID</span>\t<span class=\"column\">Conclusion</span>\t<span class=\"column\">Stance</span>\t<span class=\"column\">Premise</span>\n",
        "<span class=\"column\">A01010</span>\t<span class=\"column\">We should prohibit school prayer</span>\t<span class=\"column\">against</span>\t<span class=\"column\">it should be allowed if the student wants to pray as long as it is not interfering with his classes</span>\n",
        "<span class=\"column\">A01011</span>\t<span class=\"column\">We should abolish the three-strikes laws</span>\t<span class=\"column\">in favor of</span>\t<span class=\"column\">three strike laws can cause young people to be put away for life without a chance to straight out their life</span>\n",
        "<span class=\"column\">A01012</span>\t<span class=\"column\">The use of public defenders should be mandatory</span>\t<span class=\"column\">in favor of</span>\t<span class=\"column\">the use of public defenders should be mandatory because some people don't have money for a lawyer and this would help those that don't</span>\n",
        "</pre>\n",
        "\n",
        "The labels-validation.tsv  files also contain one argument per line: its unique argument ID and one column for each of the 20 value categories with a 1 meaning that the argument resorts to the value category and a 0 that not. Example with tab-separated columns are shown below:\n",
        "\n",
        "<pre><span class=\"column\">Argument ID</span>\t<span class=\"column\">Self-direction: thought</span>\t<span class=\"column\">Self-direction: action</span>\t<span class=\"column\">Stimulation</span>\t<span class=\"column\">Hedonism</span>\t<span class=\"column\">Achievement</span>\t<span class=\"column\">Power: dominance</span>\t<span class=\"column\">Power: resources</span>\t<span class=\"column\">Face</span>\t<span class=\"column\">Security: personal</span>\t<span class=\"column\">Security: societal</span>\t<span class=\"column\">Tradition</span>\t<span class=\"column\">Conformity: rules</span>\t<span class=\"column\">Conformity: interpersonal</span>\t<span class=\"column\">Humility</span>\t<span class=\"column\">Benevolence: caring</span>\t<span class=\"column\">Benevolence: dependability</span>\t<span class=\"column\">Universalism: concern</span>\t<span class=\"column\">Universalism: nature</span>\t<span class=\"column\">Universalism: tolerance</span>\t<span class=\"column\">Universalism: objectivity</span>\n",
        "<span class=\"column\">A01010</span>\t<span class=\"column\">1</span>\t<span class=\"column\">1</span>\t<span class=\"column\">0</span>\t<span class=\"column\">0</span>\t<span class=\"column\">0</span>\t<span class=\"column\">0</span>\t<span class=\"column\">0</span>\t<span class=\"column\">0</span>\t<span class=\"column\">0</span>\t<span class=\"column\">0</span>\t<span class=\"column\">1</span>\t<span class=\"column\">0</span>\t<span class=\"column\">0</span>\t<span class=\"column\">0</span>\t<span class=\"column\">0</span>\t<span class=\"column\">0</span>\t<span class=\"column\">1</span>\t<span class=\"column\">0</span>\t<span class=\"column\">0</span>\t<span class=\"column\">0</span>\n",
        "<span class=\"column\">A01011</span>\t<span class=\"column\">0</span>\t<span class=\"column\">0</span>\t<span class=\"column\">0</span>\t<span class=\"column\">0</span>\t<span class=\"column\">1</span>\t<span class=\"column\">0</span>\t<span class=\"column\">0</span>\t<span class=\"column\">1</span>\t<span class=\"column\">0</span>\t<span class=\"column\">0</span>\t<span class=\"column\">0</span>\t<span class=\"column\">0</span>\t<span class=\"column\">0</span>\t<span class=\"column\">0</span>\t<span class=\"column\">1</span>\t<span class=\"column\">0</span>\t<span class=\"column\">0</span>\t<span class=\"column\">0</span>\t<span class=\"column\">1</span>\t<span class=\"column\">1</span>\n",
        "<span class=\"column\">A01012</span>\t<span class=\"column\">0</span>\t<span class=\"column\">0</span>\t<span class=\"column\">0</span>\t<span class=\"column\">0</span>\t<span class=\"column\">0</span>\t<span class=\"column\">0</span>\t<span class=\"column\">0</span>\t<span class=\"column\">0</span>\t<span class=\"column\">0</span>\t<span class=\"column\">0</span>\t<span class=\"column\">0</span>\t<span class=\"column\">0</span>\t<span class=\"column\">0</span>\t<span class=\"column\">0</span>\t<span class=\"column\">0</span>\t<span class=\"column\">0</span>\t<span class=\"column\">1</span>\t<span class=\"column\">0</span>\t<span class=\"column\">0</span>\t<span class=\"column\">0</span>\n",
        "</pre>"
      ]
    },
    {
      "cell_type": "markdown",
      "metadata": {
        "id": "QCCUwSn5ET4R"
      },
      "source": [
        "In addition, there are other datasets for evaluating the robustness of our model: validation-zhihu from the recommendation and hotlist section of the Chinese question-answering website Zhihu, test-nahjalbalagha from and based on the Nahj al-Balagha.\n",
        "\n"
      ]
    },
    {
      "cell_type": "markdown",
      "metadata": {
        "id": "rTbj-CWGET4S"
      },
      "source": [
        "## Evaluation"
      ]
    },
    {
      "cell_type": "markdown",
      "metadata": {
        "id": "HW0aIoUoET4T"
      },
      "source": [
        "Runs are evaluated on the basis of F1-score, Precision, and Recall: averaged over all value categories and for each category individually."
      ]
    },
    {
      "cell_type": "markdown",
      "source": [
        "## Baseline Results"
      ],
      "metadata": {
        "id": "gPq0nLudMRr6"
      }
    },
    {
      "cell_type": "code",
      "source": [
        "# DO NOT EDIT\n",
        "# RUN ONLY ONCE\n",
        "!mkdir /content/baseline\n",
        "!mkdir /content/output"
      ],
      "metadata": {
        "id": "o3bNgmUjmBm7"
      },
      "execution_count": 9,
      "outputs": []
    },
    {
      "cell_type": "markdown",
      "source": [
        "### 1-Baseline"
      ],
      "metadata": {
        "id": "FiNl_AFGMlKm"
      }
    },
    {
      "cell_type": "markdown",
      "source": [
        "#### Test Dataset"
      ],
      "metadata": {
        "id": "h0aAGZXIoxSk"
      }
    },
    {
      "cell_type": "code",
      "source": [
        "# DO NOT EDIT\n",
        "!python3 /content/1-baseline.py --inputDataset /content/Dataset/test --outputDataset /content/baseline\n",
        "!python3 evaluator.py --inputDataset /content/Dataset/test/ --inputRun /content/baseline --outputDataset /content/output\n",
        "!head -n 12 /content/output/evaluation.prototext"
      ],
      "metadata": {
        "colab": {
          "base_uri": "https://localhost:8080/"
        },
        "id": "rs9M_yVXkCci",
        "outputId": "c2824bb1-896c-4b01-9fe1-4f1bb9d2dc34"
      },
      "execution_count": 10,
      "outputs": [
        {
          "output_type": "stream",
          "name": "stdout",
          "text": [
            "Reading /content/Dataset/test/arguments-test.tsv\n",
            "Labeling 1576 instances\n",
            "Detected values: {'Power: dominance', 'Humility', 'Universalism: tolerance', 'Self-direction: thought', 'Universalism: objectivity', 'Conformity: interpersonal', 'Face', 'Benevolence: dependability', 'Benevolence: caring', 'Hedonism', 'Security: personal', 'Achievement', 'Self-direction: action', 'Universalism: nature', 'Tradition', 'Universalism: concern', 'Conformity: rules', 'Stimulation', 'Security: societal', 'Power: resources'}\n",
            "Writing run file\n",
            "Reading /content/Dataset/test/labels-test.tsv\n",
            "Reading /content/baseline/run.tsv\n",
            "Truth labels: 1576\n",
            "Run labels:   1576\n",
            "measure {\n",
            " key: \"F1\"\n",
            " value: \"0.26293020308065357\"\n",
            "}\n",
            "measure {\n",
            " key: \"Precision\"\n",
            " value: \"0.15136421319796953\"\n",
            "}\n",
            "measure {\n",
            " key: \"Recall\"\n",
            " value: \"1.0\"\n",
            "}\n"
          ]
        }
      ]
    },
    {
      "cell_type": "markdown",
      "source": [
        "#### Zhihu"
      ],
      "metadata": {
        "id": "ZimLuvQro0Un"
      }
    },
    {
      "cell_type": "code",
      "source": [
        "# DO NOT EDIT\n",
        "!python3 /content/1-baseline.py --inputDataset /content/Dataset/zhihu/ --outputDataset /content/baseline\n",
        "!python3 evaluator.py --inputDataset /content/Dataset/zhihu/ --inputRun /content/baseline --outputDataset /content/output\n",
        "!head -n 12 /content/output/evaluation.prototext"
      ],
      "metadata": {
        "colab": {
          "base_uri": "https://localhost:8080/"
        },
        "id": "bdj9s6UapKNI",
        "outputId": "624c269f-0417-4cf7-8d2d-c6b73e0d5530"
      },
      "execution_count": 11,
      "outputs": [
        {
          "output_type": "stream",
          "name": "stdout",
          "text": [
            "Reading /content/Dataset/zhihu/arguments-validation-zhihu.tsv\n",
            "Labeling 100 instances\n",
            "Detected values: {'Security: personal', 'Benevolence: dependability', 'Universalism: concern', 'Universalism: nature', 'Conformity: interpersonal', 'Conformity: rules', 'Self-direction: thought', 'Face', 'Achievement', 'Security: societal', 'Humility', 'Power: resources', 'Tradition', 'Universalism: objectivity', 'Universalism: tolerance', 'Stimulation', 'Hedonism', 'Benevolence: caring', 'Self-direction: action', 'Power: dominance'}\n",
            "Writing run file\n",
            "Reading /content/Dataset/zhihu/labels-validation-zhihu.tsv\n",
            "Reading /content/baseline/run.tsv\n",
            "Truth labels: 100\n",
            "Run labels:   100\n",
            "measure {\n",
            " key: \"F1\"\n",
            " value: \"0.2292179045745204\"\n",
            "}\n",
            "measure {\n",
            " key: \"Precision\"\n",
            " value: \"0.12944444444444445\"\n",
            "}\n",
            "measure {\n",
            " key: \"Recall\"\n",
            " value: \"1.0\"\n",
            "}\n"
          ]
        }
      ]
    },
    {
      "cell_type": "markdown",
      "source": [
        "#### Nahjalbalagha"
      ],
      "metadata": {
        "id": "wM73FR4vo32i"
      }
    },
    {
      "cell_type": "code",
      "source": [
        "# DO NOT EDIT\n",
        "!python3 /content/1-baseline.py --inputDataset /content/Dataset/nahjalbalagha/ --outputDataset /content/baseline\n",
        "!python3 evaluator.py --inputDataset /content/Dataset/nahjalbalagha/ --inputRun /content/baseline --outputDataset /content/output\n",
        "!head -n 12 /content/output/evaluation.prototext"
      ],
      "metadata": {
        "colab": {
          "base_uri": "https://localhost:8080/"
        },
        "id": "_1fhW1vnpUe3",
        "outputId": "cc36d664-44f0-4965-d943-c62d77cc00e1"
      },
      "execution_count": 12,
      "outputs": [
        {
          "output_type": "stream",
          "name": "stdout",
          "text": [
            "Reading /content/Dataset/nahjalbalagha/arguments-test-nahjalbalagha.tsv\n",
            "Labeling 279 instances\n",
            "Detected values: {'Self-direction: action', 'Security: personal', 'Security: societal', 'Tradition', 'Achievement', 'Power: resources', 'Universalism: tolerance', 'Hedonism', 'Universalism: nature', 'Self-direction: thought', 'Conformity: interpersonal', 'Universalism: concern', 'Conformity: rules', 'Universalism: objectivity', 'Humility', 'Power: dominance', 'Stimulation', 'Benevolence: dependability', 'Benevolence: caring', 'Face'}\n",
            "Writing run file\n",
            "Reading /content/Dataset/nahjalbalagha/labels-test-nahjalbalagha.tsv\n",
            "Reading /content/baseline/run.tsv\n",
            "Truth labels: 279\n",
            "Run labels:   279\n",
            "measure {\n",
            " key: \"F1\"\n",
            " value: \"0.12845882944826426\"\n",
            "}\n",
            "measure {\n",
            " key: \"Precision\"\n",
            " value: \"0.0686379928315412\"\n",
            "}\n",
            "measure {\n",
            " key: \"Recall\"\n",
            " value: \"1.0\"\n",
            "}\n"
          ]
        }
      ]
    },
    {
      "cell_type": "markdown",
      "source": [
        "### Random-Baseline\n"
      ],
      "metadata": {
        "id": "iCKuzb-RMp6u"
      }
    },
    {
      "cell_type": "markdown",
      "source": [
        "#### Test"
      ],
      "metadata": {
        "id": "k07k6xKvpAPO"
      }
    },
    {
      "cell_type": "code",
      "source": [
        "# DO NOT EDIT\n",
        "!python3 /content/random-baseline.py --inputDataset /content/Dataset/test --outputDataset /content/baseline\n",
        "!python3 evaluator.py --inputDataset /content/Dataset/test/ --inputRun /content/baseline --outputDataset /content/output\n",
        "!head -n 12 /content/output/evaluation.prototext"
      ],
      "metadata": {
        "colab": {
          "base_uri": "https://localhost:8080/"
        },
        "id": "0-SbkcWxr0Sv",
        "outputId": "92d414d2-b2ac-4250-b21a-100f967fd910"
      },
      "execution_count": 13,
      "outputs": [
        {
          "output_type": "stream",
          "name": "stdout",
          "text": [
            "Reading /content/Dataset/test/arguments-test.tsv\n",
            "Labeling 1576 instances\n",
            "Detected values: {'Benevolence: caring', 'Humility', 'Stimulation', 'Power: resources', 'Security: societal', 'Self-direction: action', 'Self-direction: thought', 'Universalism: nature', 'Face', 'Security: personal', 'Power: dominance', 'Benevolence: dependability', 'Conformity: rules', 'Conformity: interpersonal', 'Universalism: concern', 'Universalism: tolerance', 'Tradition', 'Achievement', 'Universalism: objectivity', 'Hedonism'}\n",
            "Writing run file\n",
            "Reading /content/Dataset/test/labels-test.tsv\n",
            "Reading /content/baseline/run.tsv\n",
            "Truth labels: 1576\n",
            "Run labels:   1576\n",
            "measure {\n",
            " key: \"F1\"\n",
            " value: \"0.16586590082911043\"\n",
            "}\n",
            "measure {\n",
            " key: \"Precision\"\n",
            " value: \"0.15618489179607847\"\n",
            "}\n",
            "measure {\n",
            " key: \"Recall\"\n",
            " value: \"0.17682635630588248\"\n",
            "}\n"
          ]
        }
      ]
    },
    {
      "cell_type": "markdown",
      "source": [
        "#### Zhihu\n"
      ],
      "metadata": {
        "id": "IDhh7of4pCAS"
      }
    },
    {
      "cell_type": "code",
      "source": [
        "# DO NOT EDIT\n",
        "!python3 /content/random-baseline.py --inputDataset /content/Dataset/zhihu/ --outputDataset /content/baseline\n",
        "!python3 evaluator.py --inputDataset /content/Dataset/zhihu/ --inputRun /content/baseline --outputDataset /content/output\n",
        "!head -n 12 /content/output/evaluation.prototext"
      ],
      "metadata": {
        "colab": {
          "base_uri": "https://localhost:8080/"
        },
        "id": "YN6mZ5jOr2Zp",
        "outputId": "4d95a320-54ef-4f04-9446-10983523ce37"
      },
      "execution_count": 14,
      "outputs": [
        {
          "output_type": "stream",
          "name": "stdout",
          "text": [
            "Reading /content/Dataset/zhihu/arguments-validation-zhihu.tsv\n",
            "Labeling 100 instances\n",
            "Detected values: {'Face', 'Hedonism', 'Security: societal', 'Tradition', 'Power: resources', 'Stimulation', 'Universalism: concern', 'Self-direction: action', 'Security: personal', 'Conformity: interpersonal', 'Universalism: tolerance', 'Humility', 'Benevolence: dependability', 'Achievement', 'Conformity: rules', 'Universalism: nature', 'Universalism: objectivity', 'Benevolence: caring', 'Self-direction: thought', 'Power: dominance'}\n",
            "Writing run file\n",
            "Reading /content/Dataset/zhihu/labels-validation-zhihu.tsv\n",
            "Reading /content/baseline/run.tsv\n",
            "Truth labels: 100\n",
            "Run labels:   100\n",
            "measure {\n",
            " key: \"F1\"\n",
            " value: \"0.1498601577315835\"\n",
            "}\n",
            "measure {\n",
            " key: \"Precision\"\n",
            " value: \"0.13482683450469005\"\n",
            "}\n",
            "measure {\n",
            " key: \"Recall\"\n",
            " value: \"0.16866665372607648\"\n",
            "}\n"
          ]
        }
      ]
    },
    {
      "cell_type": "markdown",
      "source": [
        "#### Nahjalbalagha"
      ],
      "metadata": {
        "id": "0Gg-ZIzQpEn3"
      }
    },
    {
      "cell_type": "code",
      "source": [
        "# DO NOT EDIT\n",
        "!python3 /content/random-baseline.py --inputDataset /content/Dataset/nahjalbalagha/ --outputDataset /content/baseline\n",
        "!python3 evaluator.py --inputDataset /content/Dataset/nahjalbalagha/ --inputRun /content/baseline --outputDataset /content/output\n",
        "!head -n 12 /content/output/evaluation.prototext"
      ],
      "metadata": {
        "colab": {
          "base_uri": "https://localhost:8080/"
        },
        "id": "WurMCZZSsBIU",
        "outputId": "38e80f94-68d2-40f0-8b6a-f104306c1a01"
      },
      "execution_count": 15,
      "outputs": [
        {
          "output_type": "stream",
          "name": "stdout",
          "text": [
            "Reading /content/Dataset/nahjalbalagha/arguments-test-nahjalbalagha.tsv\n",
            "Labeling 279 instances\n",
            "Detected values: {'Benevolence: dependability', 'Self-direction: thought', 'Self-direction: action', 'Humility', 'Security: personal', 'Benevolence: caring', 'Conformity: rules', 'Tradition', 'Universalism: nature', 'Security: societal', 'Universalism: tolerance', 'Face', 'Achievement', 'Power: resources', 'Stimulation', 'Universalism: concern', 'Conformity: interpersonal', 'Hedonism', 'Power: dominance', 'Universalism: objectivity'}\n",
            "Writing run file\n",
            "Reading /content/Dataset/nahjalbalagha/labels-test-nahjalbalagha.tsv\n",
            "Reading /content/baseline/run.tsv\n",
            "Truth labels: 279\n",
            "Run labels:   279\n",
            "measure {\n",
            " key: \"F1\"\n",
            " value: \"0.10457355912331483\"\n",
            "}\n",
            "measure {\n",
            " key: \"Precision\"\n",
            " value: \"0.07133237313634852\"\n",
            "}\n",
            "measure {\n",
            " key: \"Recall\"\n",
            " value: \"0.19583217793466123\"\n",
            "}\n"
          ]
        }
      ]
    },
    {
      "cell_type": "markdown",
      "source": [
        "# Tasks"
      ],
      "metadata": {
        "id": "Aub8gmh_xfOz"
      }
    },
    {
      "cell_type": "markdown",
      "source": [
        "## [20 Points] Task 01 - Load Datasets"
      ],
      "metadata": {
        "id": "ZvwbxxhcwIwo"
      }
    },
    {
      "cell_type": "markdown",
      "source": [
        "In this task, you are required to load the Training, Test, Validation, Nahjalbalagha & Zhihu into seperate dataframes."
      ],
      "metadata": {
        "id": "wJ6f0D1zwj9P"
      }
    },
    {
      "cell_type": "code",
      "execution_count": 16,
      "metadata": {
        "id": "hicJHRw0piGN"
      },
      "outputs": [],
      "source": [
        "# Write your code here"
      ]
    },
    {
      "cell_type": "markdown",
      "metadata": {
        "id": "fpBfeP35A13l"
      },
      "source": [
        "## [10 Points] Task 02 - Define Tokenizer & Model\n"
      ]
    },
    {
      "cell_type": "markdown",
      "source": [
        "In this task, you are required to define the Tokenizer and LLM model of your choice."
      ],
      "metadata": {
        "id": "A-GrMJPcx3W3"
      }
    },
    {
      "cell_type": "code",
      "execution_count": 17,
      "metadata": {
        "id": "iNVCZzye2Mz4"
      },
      "outputs": [],
      "source": [
        "# Write your code here"
      ]
    },
    {
      "cell_type": "markdown",
      "metadata": {
        "id": "ucHVo6_LBBmS"
      },
      "source": [
        "## [20 Points] Task 03 - Optimizer & Hyperparameters\n"
      ]
    },
    {
      "cell_type": "markdown",
      "source": [
        "In this task, you are required to define the hyperparameters & the optimizer for training your model."
      ],
      "metadata": {
        "id": "D_U-toJPyWU2"
      }
    },
    {
      "cell_type": "code",
      "source": [
        "# Write your code here"
      ],
      "metadata": {
        "id": "IRCnPVc1y8C-"
      },
      "execution_count": 18,
      "outputs": []
    },
    {
      "cell_type": "markdown",
      "metadata": {
        "id": "W0hSUmrBBGI4"
      },
      "source": [
        "## [20 Points] Task 04 -  Training Loop\n"
      ]
    },
    {
      "cell_type": "markdown",
      "source": [
        "In this task, you are required to implement the training loop for fine tuning your model. You are also required to plot on the same graph: Loss vs Epochs & Accuracy vs Epochs"
      ],
      "metadata": {
        "id": "ZIT5b7E6yuC3"
      }
    },
    {
      "cell_type": "code",
      "source": [
        "# Write your code here"
      ],
      "metadata": {
        "id": "Egtj2TzwzVrp"
      },
      "execution_count": 19,
      "outputs": []
    },
    {
      "cell_type": "markdown",
      "source": [
        "## [10 Points]  Task 05 - Model Evaluation: Test Dataset"
      ],
      "metadata": {
        "id": "y-NOEm2ezYUt"
      }
    },
    {
      "cell_type": "markdown",
      "source": [
        "In this task, you are required your fine tuned model on the Test dataset using ``evaluator.py`` and compare your results with random and 1-baseline."
      ],
      "metadata": {
        "id": "G7kjnR9qzuZG"
      }
    },
    {
      "cell_type": "code",
      "source": [
        "#Write your code"
      ],
      "metadata": {
        "id": "AkJAygxszgj7"
      },
      "execution_count": 20,
      "outputs": []
    },
    {
      "cell_type": "markdown",
      "source": [
        "## [10 Points]  Task 06 - Model Evaluation: Zhihu Dataset"
      ],
      "metadata": {
        "id": "NU4HaMYnzhJv"
      }
    },
    {
      "cell_type": "markdown",
      "source": [
        "In this task, you are required your fine tuned model on the Zhihu\n",
        " dataset using ``evaluator.py`` and compare your results with random and 1-baseline."
      ],
      "metadata": {
        "id": "RT5t6TbG0F_O"
      }
    },
    {
      "cell_type": "code",
      "source": [],
      "metadata": {
        "id": "DVP0kNHOzixT"
      },
      "execution_count": 20,
      "outputs": []
    },
    {
      "cell_type": "markdown",
      "source": [
        "## [10 Points]  Task 07 - Model Evaluation: Nahjalbalagha Dataset"
      ],
      "metadata": {
        "id": "R_4ZsjvNzj0-"
      }
    },
    {
      "cell_type": "markdown",
      "source": [
        "In this task, you are required your fine tuned model on the Nahjalbalagha dataset using ``evaluator.py`` and compare your results with random and 1-baseline."
      ],
      "metadata": {
        "id": "1KkhxR3p0KAF"
      }
    },
    {
      "cell_type": "code",
      "source": [],
      "metadata": {
        "id": "UcQnoTEUzlJU"
      },
      "execution_count": 20,
      "outputs": []
    },
    {
      "cell_type": "markdown",
      "source": [
        "# References"
      ],
      "metadata": {
        "id": "4I0v4IKS0OA9"
      }
    },
    {
      "cell_type": "markdown",
      "source": [
        "In this section, cite any resources or references that you use for solving this assignment.\n"
      ],
      "metadata": {
        "id": "i6B-tga80RDu"
      }
    }
  ],
  "metadata": {
    "colab": {
      "provenance": [],
      "toc_visible": true
    },
    "kernelspec": {
      "display_name": "Python 3",
      "name": "python3"
    },
    "language_info": {
      "name": "python"
    }
  },
  "nbformat": 4,
  "nbformat_minor": 0
}